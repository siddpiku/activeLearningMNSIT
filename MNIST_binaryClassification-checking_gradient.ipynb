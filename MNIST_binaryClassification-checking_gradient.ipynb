{
 "cells": [
  {
   "cell_type": "code",
   "execution_count": 2,
   "id": "ad83b62f",
   "metadata": {},
   "outputs": [],
   "source": [
    "N0 = 5#initial number of training points\n",
    "num_times = 1\n",
    "digs = [4,5]"
   ]
  },
  {
   "cell_type": "markdown",
   "id": "8a916552",
   "metadata": {},
   "source": [
    "## Extracting two classes from the MNIST dataset, digits 4 and 5"
   ]
  },
  {
   "cell_type": "code",
   "execution_count": 3,
   "id": "c701e33a",
   "metadata": {},
   "outputs": [],
   "source": [
    "import torch\n",
    "from torchvision import datasets\n",
    "from torchvision.transforms import ToTensor\n",
    "import matplotlib.pyplot as plt\n",
    "import torch.nn as nn\n",
    "from torch.autograd import Variable\n",
    "from torch.utils.data import DataLoader\n",
    "import numpy as np\n",
    "from torch import optim\n",
    "from torchvision.transforms import Lambda\n",
    "from torchvision.transforms.functional import convert_image_dtype\n",
    "import torchvision.transforms as transforms\n",
    "\n",
    "device = torch.device('cuda' if torch.cuda.is_available() else 'cpu')\n",
    "train_data = datasets.MNIST(\n",
    "    root = 'data',\n",
    "    train = True,                         \n",
    "    transform = transforms.Compose([\n",
    "        ToTensor(),\n",
    "        transforms.ConvertImageDtype(torch.float32),\n",
    "        Lambda(lambda x: x.float()),\n",
    "        Lambda(lambda x: (x.float() - torch.mean(x.float()))/torch.std(x.float()))\n",
    "    ]), \n",
    "    download = True,            \n",
    ")\n",
    "test_data = datasets.MNIST(\n",
    "    root = 'data', \n",
    "    train = False, \n",
    "    transform = transforms.Compose([\n",
    "        ToTensor(),\n",
    "        transforms.ConvertImageDtype(torch.float32),\n",
    "        Lambda(lambda x: x.float()),\n",
    "        Lambda(lambda x: (x.float() - torch.mean(x.float()))/torch.std(x.float()))\n",
    "    ])\n",
    ")\n",
    "#finding indices where target is two or three\n",
    "def get_mask_digit(digits):\n",
    "    for cnt,i in enumerate(digits):\n",
    "        if cnt == 0:\n",
    "            s_train = train_data.targets == i\n",
    "            s_test = test_data.targets == i\n",
    "        else:\n",
    "            s_train += train_data.targets == i\n",
    "            s_test += test_data.targets == i\n",
    "    return torch.squeeze(torch.nonzero(s_train)),torch.squeeze(torch.nonzero(s_test))\n",
    "### select two digits for classification\n",
    "mask_train, mask_test = get_mask_digit(digs)\n",
    "test_data = torch.utils.data.Subset(test_data, mask_test)\n",
    "sum(train_data.targets[mask_train[:N0]] == digs[0]),sum(train_data.targets[mask_train[:N0]] == digs[1])\n",
    "\n",
    "def set_seed():\n",
    "    torch.cuda.manual_seed(0)\n",
    "    torch.cuda.manual_seed_all(0)\n",
    "    torch.manual_seed(0)\n",
    "    np.random.seed(0)\n",
    "    torch.backends.cudnn.benchmark = False\n",
    "    torch.backends.cudnn.deterministic = True\n",
    "    torch.use_deterministic_algorithms(True)\n",
    "    torch.manual_seed(0)\n",
    "set_seed()"
   ]
  },
  {
   "cell_type": "markdown",
   "id": "a5a37e6e",
   "metadata": {},
   "source": [
    "## Visualize datasets"
   ]
  },
  {
   "cell_type": "code",
   "execution_count": 4,
   "id": "45622563",
   "metadata": {},
   "outputs": [
    {
     "name": "stdout",
     "output_type": "stream",
     "text": [
      "Dataset MNIST\n",
      "    Number of datapoints: 60000\n",
      "    Root location: data\n",
      "    Split: Train\n",
      "    StandardTransform\n",
      "Transform: Compose(\n",
      "               ToTensor()\n",
      "               ConvertImageDtype()\n",
      "               Lambda()\n",
      "               Lambda()\n",
      "           )\n",
      "<torch.utils.data.dataset.Subset object at 0x7f631011db80>\n"
     ]
    },
    {
     "data": {
      "image/png": "[encoded data removed]",
      "text/plain": [
       "<Figure size 432x288 with 1 Axes>"
      ]
     },
     "metadata": {
      "needs_background": "light"
     },
     "output_type": "display_data"
    },
    {
     "data": {
      "image/png": "[encoded data removed]",
      "text/plain": [
       "<Figure size 720x576 with 5 Axes>"
      ]
     },
     "metadata": {
      "needs_background": "light"
     },
     "output_type": "display_data"
    }
   ],
   "source": [
    "print(train_data)\n",
    "print(test_data)\n",
    "\n",
    "plt.imshow(train_data.data[mask_train[0]], cmap='gray')\n",
    "plt.title('%i' % train_data.targets[mask_train[0]])\n",
    "plt.show()\n",
    "figure = plt.figure(figsize=(10, 8))\n",
    "cols, rows = 5, 5\n",
    "for cnt,i in enumerate(range(1, N0+1)):\n",
    "    sample_idx = mask_train[:N0][cnt%N0]#torch.randint(len(mask_train[:N0]), size=(1,)).item()\n",
    "    img, label = train_data[sample_idx]\n",
    "    figure.add_subplot(rows, cols, i)\n",
    "    plt.title(label)\n",
    "    plt.axis(\"off\")\n",
    "    plt.imshow(img.squeeze(), cmap=\"gray\")\n",
    "plt.show()"
   ]
  },
  {
   "cell_type": "code",
   "execution_count": 22,
   "id": "b3362156",
   "metadata": {},
   "outputs": [],
   "source": [
    "# Defining training and testing modules\n",
    "class CNN(nn.Module):\n",
    "    def __init__(self):\n",
    "        super(CNN, self).__init__()\n",
    "        self.conv1 = nn.Sequential(         \n",
    "            nn.Conv2d(\n",
    "                in_channels=1,              \n",
    "                out_channels=16,            \n",
    "                kernel_size=5,              \n",
    "                stride=1,                   \n",
    "                padding=2,                  \n",
    "            ),                              \n",
    "            nn.ReLU(),                      \n",
    "            nn.MaxPool2d(kernel_size=2),    \n",
    "        )\n",
    "        self.conv2 = nn.Sequential(         \n",
    "            nn.Conv2d(16, 32, 5, 1, 2),     \n",
    "            nn.ReLU(),                      \n",
    "            nn.MaxPool2d(2),                \n",
    "        )\n",
    "        # fully connected layer, output 10 classes\n",
    "        self.out = nn.Linear(32 * 7 * 7, 1)\n",
    "    def forward(self, x):\n",
    "        x = self.conv1(x)\n",
    "        x = self.conv2(x)\n",
    "        # flatten the output of conv2 to (batch_size, 32 * 7 * 7)\n",
    "        x = x.view(x.size(0), -1)       \n",
    "        output = self.out(x)\n",
    "        return output, x    # return x for visualization\n",
    "\n",
    "\n",
    "\n",
    "\n",
    "def test(cnn,loaders):\n",
    "    # Test the model\n",
    "    cnn.eval()\n",
    "    with torch.no_grad():\n",
    "        correct = 0\n",
    "        total = 0\n",
    "        for images, labels in loaders['test']:\n",
    "            labels = ((labels - np.mean(digs))>0).float() \n",
    "            test_output, last_layer = cnn(images)\n",
    "            pred_y = (test_output.squeeze()>0).float()\n",
    "            accuracy = (pred_y == labels).sum().item() / float(labels.size(0))\n",
    "    print(f'Test Accuracy of the model on the {len(mask_test)} test images: %.2f' % accuracy)\n",
    "    return accuracy"
   ]
  },
  {
   "cell_type": "markdown",
   "id": "cdc074e9",
   "metadata": {},
   "source": [
    "# Running 20 epochs with N0 samples"
   ]
  },
  {
   "cell_type": "code",
   "execution_count": 54,
   "id": "69d8112a",
   "metadata": {
    "scrolled": false
   },
   "outputs": [
    {
     "name": "stdout",
     "output_type": "stream",
     "text": [
      "ssssssssssssssssssssssss\n",
      "tensor([[[[ 2.6590e-02,  1.2502e-03, -4.5284e-03, -6.6155e-04,  7.8446e-03],\n",
      "          [ 1.4202e-02,  6.4167e-03,  3.8876e-03,  4.5928e-03,  7.2068e-03],\n",
      "          [ 2.3759e-02,  2.0462e-02,  5.4791e-03,  2.8782e-03,  4.4609e-03],\n",
      "          [ 2.7734e-02,  3.3731e-02,  1.7547e-02,  8.2374e-03,  1.5594e-02],\n",
      "          [ 2.6974e-02,  3.6477e-02,  2.4693e-02,  1.2116e-02,  1.5906e-02]]],\n",
      "\n",
      "\n",
      "        [[[-6.2456e-03, -8.2058e-03, -4.2458e-03, -6.3742e-03, -3.4899e-03],\n",
      "          [-6.8317e-03, -9.3719e-03, -5.7524e-03, -9.5200e-03, -8.1640e-03],\n",
      "          [-1.4703e-02, -5.6701e-03, -2.5374e-03, -5.4686e-03, -8.1736e-03],\n",
      "          [-9.9711e-03, -3.5371e-03,  1.2714e-03, -4.1222e-03, -6.9093e-03],\n",
      "          [ 7.0354e-04, -5.0191e-03,  1.3357e-03, -1.8068e-03, -1.8602e-03]]],\n",
      "\n",
      "\n",
      "        [[[ 1.7829e-03,  1.3070e-03,  6.0555e-03,  1.8227e-02,  2.6252e-02],\n",
      "          [ 2.1270e-02,  1.1279e-02,  7.3219e-03,  5.3449e-03, -5.5250e-04],\n",
      "          [ 9.0303e-03,  1.0535e-02,  9.5730e-03,  5.7927e-03,  7.8513e-04],\n",
      "          [ 7.7253e-03,  1.4348e-02,  2.0104e-02,  7.9617e-03,  6.1433e-03],\n",
      "          [ 3.4259e-03,  1.2921e-02,  1.6191e-02,  1.8987e-03, -1.2597e-03]]],\n",
      "\n",
      "\n",
      "        [[[ 4.1250e-03,  1.4455e-02,  1.2644e-02, -1.1721e-03,  8.2365e-04],\n",
      "          [-2.3855e-03,  1.8738e-02,  1.8126e-02,  4.5509e-03,  8.3651e-03],\n",
      "          [ 8.3352e-03,  1.7736e-02,  1.3026e-02,  1.6433e-03,  8.2170e-03],\n",
      "          [ 1.8288e-02,  2.5344e-02,  1.9679e-02,  8.5117e-03,  5.5521e-03],\n",
      "          [ 2.2060e-02,  2.1764e-02,  1.5811e-02,  2.1017e-03, -1.2608e-03]]],\n",
      "\n",
      "\n",
      "        [[[-8.4030e-03, -9.9784e-03, -2.9327e-03, -8.2454e-03, -1.3931e-02],\n",
      "          [-2.2717e-02, -1.2985e-02, -3.7849e-03, -1.8656e-02, -1.5375e-02],\n",
      "          [-2.1439e-02, -1.1222e-02, -1.1424e-02, -2.2591e-02, -2.0455e-02],\n",
      "          [-1.5825e-03, -5.0660e-03, -1.3278e-02, -2.7632e-02, -1.5271e-02],\n",
      "          [ 4.2536e-03, -2.0583e-04, -2.0230e-02, -3.2111e-02, -1.5790e-02]]],\n",
      "\n",
      "\n",
      "        [[[ 4.8940e-03, -4.5732e-03, -1.2127e-02, -1.7323e-02, -5.9213e-03],\n",
      "          [ 4.8333e-03, -6.2448e-03, -1.1112e-02, -1.2392e-02,  6.5188e-03],\n",
      "          [-4.5473e-03, -8.1025e-03, -1.3326e-02, -1.1804e-02,  7.1419e-04],\n",
      "          [-1.1168e-02, -7.0339e-03, -1.9427e-02, -1.1950e-02, -8.9047e-03],\n",
      "          [ 1.3228e-03, -1.7501e-03, -2.2524e-02, -5.8401e-03, -4.1305e-03]]],\n",
      "\n",
      "\n",
      "        [[[ 3.1224e-03,  5.6582e-03,  6.7611e-03, -2.5129e-03, -1.3326e-02],\n",
      "          [ 5.6208e-03,  4.4344e-03,  5.2672e-03,  1.3291e-04, -5.8591e-03],\n",
      "          [ 9.5837e-03,  4.1860e-03,  5.7625e-03, -2.1923e-03, -1.3702e-02],\n",
      "          [ 9.1574e-03, -5.3497e-04, -5.0096e-03, -7.7179e-03, -5.8122e-03],\n",
      "          [ 2.4682e-02,  1.8956e-02,  2.6768e-03, -2.0771e-03, -1.1044e-03]]],\n",
      "\n",
      "\n",
      "        [[[-1.7889e-02, -8.7044e-03,  1.9007e-02,  3.5533e-02,  3.2311e-02],\n",
      "          [-1.1643e-02,  7.7208e-03,  2.3498e-02,  1.8607e-02,  1.1438e-02],\n",
      "          [-1.2399e-02,  2.0856e-03,  2.8987e-03, -5.2413e-03, -6.0952e-03],\n",
      "          [-1.3192e-02, -1.4447e-03, -1.8309e-03, -1.5631e-04, -9.8017e-04],\n",
      "          [-1.7382e-03,  7.4734e-03,  5.5698e-03,  2.6694e-03,  3.2530e-03]]],\n",
      "\n",
      "\n",
      "        [[[-4.4000e-03, -1.1213e-02, -1.1686e-02, -7.9642e-04,  5.9975e-03],\n",
      "          [ 3.0816e-03, -3.3434e-03,  7.6249e-03,  8.0366e-03,  1.5637e-02],\n",
      "          [ 3.4067e-03,  3.5391e-03,  1.1235e-02,  2.5121e-03,  7.7664e-03],\n",
      "          [ 1.1541e-03, -8.0353e-03, -1.0010e-03,  1.3052e-03,  3.5385e-03],\n",
      "          [-1.2237e-03, -2.2415e-03, -2.1335e-03,  5.4450e-03,  3.1806e-03]]],\n",
      "\n",
      "\n",
      "        [[[ 8.1521e-03,  1.4152e-03, -9.4149e-05, -3.9140e-03, -6.5833e-03],\n",
      "          [-5.5096e-03, -6.6753e-03,  6.9889e-04,  4.6777e-03,  2.9069e-03],\n",
      "          [ 5.8875e-04,  1.0531e-02,  1.1119e-02,  9.9513e-03,  2.1106e-02],\n",
      "          [ 3.3156e-03,  1.2677e-02,  2.0735e-02,  1.2214e-02,  2.2727e-02],\n",
      "          [-6.3946e-04,  1.0126e-02,  1.7224e-02,  1.4887e-02,  1.6166e-02]]],\n",
      "\n",
      "\n",
      "        [[[ 2.6366e-03, -1.3364e-02, -1.8636e-02,  1.2081e-03,  6.4539e-03],\n",
      "          [-1.6000e-03, -1.0296e-02, -4.1918e-03,  6.5279e-03,  8.8994e-03],\n",
      "          [ 1.1549e-02,  7.0979e-04, -3.1915e-03, -7.6702e-03,  1.8846e-03],\n",
      "          [ 1.5333e-02,  2.4046e-03, -2.0479e-03, -6.6352e-03, -8.8352e-03],\n",
      "          [ 2.5087e-03, -1.2594e-03,  3.5245e-03,  2.2095e-03,  1.1698e-04]]],\n",
      "\n",
      "\n",
      "        [[[ 2.5940e-03,  3.3889e-03,  6.8827e-04, -8.4887e-03, -9.0087e-03],\n",
      "          [ 1.4768e-03,  3.0111e-03, -2.3332e-03, -8.1370e-03, -5.1954e-03],\n",
      "          [-9.7321e-03, -4.9519e-03, -9.3675e-03, -8.0062e-03,  5.0750e-04],\n",
      "          [-1.1197e-02, -1.3705e-02, -1.5029e-02,  3.6137e-03,  1.2024e-02],\n",
      "          [-1.4032e-02, -1.5919e-02, -1.5988e-02,  3.2652e-03,  1.9217e-02]]],\n",
      "\n",
      "\n",
      "        [[[ 9.1525e-03, -2.4916e-04, -3.1951e-03,  6.8042e-03,  9.8138e-03],\n",
      "          [ 1.8578e-02,  1.7521e-02,  9.3753e-03,  1.1287e-02,  1.9438e-02],\n",
      "          [ 2.5514e-02,  7.9632e-03, -2.2160e-03,  5.1087e-03,  9.5717e-03],\n",
      "          [ 1.0145e-02,  6.6428e-03,  1.2411e-02,  1.9673e-02,  1.3716e-02],\n",
      "          [ 1.9457e-02,  1.5113e-02,  2.5985e-02,  2.1687e-02,  7.8618e-03]]],\n",
      "\n",
      "\n",
      "        [[[ 6.0390e-04, -3.3729e-03, -1.9139e-02, -3.0223e-02, -2.3689e-02],\n",
      "          [-1.2401e-04, -1.5484e-02, -2.0160e-02, -2.0407e-02, -1.1859e-02],\n",
      "          [ 1.4318e-02, -1.0522e-03, -7.6201e-03, -1.5858e-02, -7.5557e-03],\n",
      "          [ 4.7058e-03, -2.9624e-04, -4.6592e-04, -1.9901e-03, -9.1392e-03],\n",
      "          [-1.6936e-02, -2.3252e-02, -1.3825e-02, -6.6822e-03, -8.7948e-03]]],\n",
      "\n",
      "\n",
      "        [[[-3.2920e-03,  1.2452e-04,  3.9084e-03, -5.4124e-03, -1.5665e-02],\n",
      "          [-4.0980e-04, -1.1073e-03,  8.2644e-03,  4.9371e-03,  3.7256e-03],\n",
      "          [-6.5838e-03, -3.1337e-03, -6.3564e-03,  9.8925e-04,  2.2697e-03],\n",
      "          [-1.1281e-02, -6.6129e-03, -9.5757e-03, -2.7191e-03,  2.0780e-03],\n",
      "          [ 3.3594e-03,  1.3810e-03, -5.4928e-03, -4.4002e-03, -6.4315e-03]]],\n",
      "\n",
      "\n",
      "        [[[-2.3833e-02, -1.9354e-02,  7.2089e-03,  2.0563e-02,  1.6767e-02],\n",
      "          [-6.9935e-03, -6.3519e-03,  1.4602e-02,  3.7387e-02,  1.5172e-02],\n",
      "          [-2.4173e-03,  5.5265e-03,  2.9169e-02,  1.7398e-02,  1.2470e-02],\n",
      "          [-1.2117e-02,  1.6749e-03,  3.7541e-03, -7.9176e-03,  3.4868e-03],\n",
      "          [-4.1772e-03, -9.3317e-03, -1.1846e-02, -2.0155e-02, -3.6125e-03]]]]) tensor(0)\n",
      "tensor([ 0.0071,  0.0169,  0.0043, -0.0036,  0.0019, -0.0031, -0.0175, -0.0132,\n",
      "         0.0030,  0.0119, -0.0112, -0.0107, -0.0028, -0.0051,  0.0054,  0.0004]) tensor(0)\n",
      "tensor([[[[-2.5271e-03, -7.4758e-03, -7.8555e-03, -1.2394e-03, -6.9991e-03],\n",
      "          [-2.5196e-03, -5.5746e-03, -5.9330e-03,  8.0582e-03,  2.8326e-04],\n",
      "          [-7.0068e-03, -1.0053e-02, -6.3512e-03,  1.8846e-03, -4.7839e-03],\n",
      "          [-7.5611e-03, -1.9812e-02, -1.3515e-02, -1.1906e-02, -9.6044e-03],\n",
      "          [-1.8363e-02, -2.3944e-02, -1.2323e-02, -6.7448e-03, -1.9994e-03]],\n",
      "\n",
      "         [[-8.0984e-03, -1.4114e-02, -5.4145e-03, -6.3043e-03, -5.1172e-03],\n",
      "          [-8.1045e-03, -6.1616e-03, -8.6780e-03, -2.7131e-03, -8.9782e-03],\n",
      "          [-7.1755e-03, -4.8582e-03, -5.4919e-03, -1.1734e-02, -6.7117e-03],\n",
      "          [-3.6376e-03, -4.3594e-03, -6.1507e-03, -5.5231e-03, -4.3543e-03],\n",
      "          [ 3.6907e-03,  2.6693e-03, -4.7969e-03, -3.4715e-03,  8.5845e-07]],\n",
      "\n",
      "         [[-5.5464e-03,  8.1049e-04, -3.9403e-03, -1.0291e-02, -6.4583e-03],\n",
      "          [ 2.8524e-03,  7.0629e-03,  5.6673e-03,  4.5572e-03,  1.2390e-02],\n",
      "          [-1.2380e-02,  9.4274e-03,  1.1970e-02,  1.2500e-02,  1.1123e-02],\n",
      "          [-1.2429e-02, -5.4523e-03, -8.3817e-03,  5.3044e-04,  3.6169e-03],\n",
      "          [-3.1932e-02, -2.6379e-02, -1.5121e-02,  1.1105e-03,  2.7702e-03]],\n",
      "\n",
      "         ...,\n",
      "\n",
      "         [[ 2.5926e-02, -8.8793e-05, -3.9853e-03, -1.2658e-02, -1.2298e-02],\n",
      "          [ 1.4557e-02, -8.0223e-03, -6.5627e-03, -1.0491e-02, -1.3782e-02],\n",
      "          [-4.5563e-03, -1.2245e-02,  7.5282e-03,  1.3230e-02,  1.7540e-02],\n",
      "          [-3.2523e-02, -2.4090e-02,  8.4512e-03,  3.7284e-03,  3.2419e-03],\n",
      "          [-6.4521e-02, -4.4669e-02, -3.1599e-02, -2.4347e-02, -7.6179e-03]],\n",
      "\n",
      "         [[-4.6522e-03, -1.6940e-03, -5.7194e-03, -2.9581e-03,  6.7042e-04],\n",
      "          [-4.2530e-03, -4.3412e-03, -6.0931e-03, -3.4994e-04, -6.3399e-04],\n",
      "          [ 6.0609e-04, -3.0953e-03, -5.9491e-03, -3.7810e-03, -1.3576e-03],\n",
      "          [ 4.4981e-03,  3.6682e-03,  1.9190e-04,  2.2985e-03,  4.5934e-03],\n",
      "          [ 3.6837e-04, -4.1319e-03,  4.5868e-03,  3.8677e-03,  3.7357e-03]],\n",
      "\n",
      "         [[ 2.1159e-02,  2.2829e-02,  5.7589e-03,  7.0697e-03,  1.0105e-02],\n",
      "          [ 1.6584e-02, -1.0083e-03, -9.2341e-03, -8.7786e-03, -8.9427e-03],\n",
      "          [ 1.5246e-05, -1.0604e-02, -1.4429e-02, -2.5654e-03,  3.3594e-03],\n",
      "          [-2.3676e-03, -1.3707e-02, -4.3604e-04,  1.4124e-02,  1.8964e-02],\n",
      "          [-3.4681e-02, -2.8560e-02, -2.6703e-03, -4.5597e-03, -9.0510e-03]]],\n",
      "\n",
      "\n",
      "        [[[-2.1603e-04, -3.5695e-04,  6.1479e-03,  6.3273e-03,  4.0099e-03],\n",
      "          [ 5.3173e-03,  8.0852e-03,  1.1536e-02,  7.5663e-03,  6.8327e-03],\n",
      "          [ 8.5094e-03,  6.9843e-03,  1.4850e-02,  1.5111e-02,  1.0722e-02],\n",
      "          [ 9.6403e-03,  8.7659e-03,  6.0486e-03,  2.1918e-02,  2.1429e-02],\n",
      "          [ 9.9478e-03,  9.1408e-03,  1.8209e-03,  1.9557e-02,  2.3245e-02]],\n",
      "\n",
      "         [[-4.9525e-04,  5.6102e-03,  6.6956e-03,  5.8863e-03,  3.6715e-03],\n",
      "          [ 1.4273e-03,  6.9623e-03,  8.6138e-03,  7.6869e-03,  1.0255e-02],\n",
      "          [ 7.4000e-03,  3.7896e-03,  9.9352e-03,  7.9428e-03,  8.9882e-03],\n",
      "          [ 8.6176e-03,  6.1908e-03,  6.1679e-03,  1.1569e-02,  7.4719e-03],\n",
      "          [ 9.3585e-03,  3.2696e-03,  3.6227e-03,  1.3518e-02,  7.0007e-03]],\n",
      "\n",
      "         [[-4.0293e-04,  7.8561e-03,  7.2564e-03,  1.0495e-02,  5.8041e-03],\n",
      "          [ 1.0039e-02,  1.4761e-02,  1.1403e-02,  3.0186e-03,  3.8040e-03],\n",
      "          [ 8.4791e-03,  1.7509e-02,  1.5121e-02, -7.2842e-04, -1.6113e-03],\n",
      "          [ 6.9397e-03,  1.1759e-02,  2.8285e-02,  1.4495e-02, -7.9707e-03],\n",
      "          [ 1.1683e-02,  1.2698e-02,  3.7898e-02,  1.4770e-02, -1.3437e-02]],\n",
      "\n",
      "         ...,\n",
      "\n",
      "         [[ 9.1040e-03,  1.0759e-02,  1.9076e-02,  1.3804e-02,  6.9946e-03],\n",
      "          [-1.9283e-03,  1.2696e-02,  1.4598e-02,  1.0824e-02,  4.3198e-03],\n",
      "          [ 6.9796e-03,  9.8698e-03,  1.6584e-02,  6.5849e-03,  8.3798e-04],\n",
      "          [ 9.0195e-03,  1.7537e-02,  2.3636e-02,  1.9008e-02,  3.6784e-03],\n",
      "          [ 1.4656e-02,  9.5306e-03,  3.0404e-02,  5.2494e-02,  1.2519e-02]],\n",
      "\n",
      "         [[ 7.4474e-04, -7.8877e-04,  8.0417e-03,  5.2829e-03,  5.9874e-03],\n",
      "          [ 8.7119e-03,  7.8171e-03,  6.4326e-03,  6.8498e-03,  2.4799e-03],\n",
      "          [ 1.3795e-03,  2.3680e-03,  3.5894e-03,  5.7473e-03,  5.9917e-03],\n",
      "          [ 6.6980e-03,  8.9063e-03,  1.3205e-04,  2.6530e-03,  1.1755e-02],\n",
      "          [ 2.2015e-03,  5.2525e-03,  6.4869e-04, -1.0741e-03,  4.9562e-03]],\n",
      "\n",
      "         [[ 9.5543e-03,  1.3931e-02,  2.7066e-02,  2.0213e-02,  1.1283e-02],\n",
      "          [ 1.8926e-02,  1.2040e-02,  1.5621e-02,  1.4432e-02,  3.3274e-03],\n",
      "          [-8.9376e-04,  5.0946e-03,  7.1682e-03,  8.8494e-03,  4.0040e-03],\n",
      "          [ 9.0449e-03,  1.3231e-02,  1.2627e-02,  7.6496e-03,  1.1898e-02],\n",
      "          [ 6.3509e-03,  2.2257e-02,  1.4726e-02,  1.7275e-02,  1.8378e-02]]],\n",
      "\n",
      "\n",
      "        [[[ 3.2528e-03,  1.5376e-03,  1.1593e-04, -7.2340e-03, -8.5329e-04],\n",
      "          [-3.8297e-04,  9.5833e-04,  2.4001e-03, -6.3124e-03, -7.1963e-03],\n",
      "          [ 6.2146e-04, -4.8142e-03, -1.1634e-03, -3.5872e-03, -1.7165e-02],\n",
      "          [-6.1738e-03, -5.7087e-03,  3.3028e-03, -1.4978e-03, -1.2668e-02],\n",
      "          [-1.3177e-02, -4.1758e-03,  1.7151e-04, -7.3006e-03, -1.1392e-02]],\n",
      "\n",
      "         [[-2.5647e-03, -9.8781e-04,  7.7559e-03,  2.8208e-03,  3.4265e-03],\n",
      "          [-5.7124e-03,  2.4584e-03, -3.3149e-03,  1.8723e-03, -7.6897e-03],\n",
      "          [-1.8488e-03,  2.5682e-05, -4.3268e-03, -6.2194e-03, -1.0493e-02],\n",
      "          [-7.8817e-03, -6.3139e-03, -4.9513e-03, -1.1435e-02, -2.9134e-03],\n",
      "          [-6.1336e-03, -4.8108e-03, -5.2384e-03, -7.0873e-03, -1.0564e-02]],\n",
      "\n",
      "         [[-1.8525e-02, -2.4019e-02, -1.1727e-02, -2.6294e-02, -1.6170e-02],\n",
      "          [-9.2197e-03, -4.1149e-03, -6.4339e-03, -2.8536e-02, -4.6955e-03],\n",
      "          [ 7.3184e-03,  9.4103e-03, -1.4684e-02, -2.3937e-02,  1.1468e-02],\n",
      "          [ 7.0585e-03, -2.4483e-03, -1.7051e-02, -4.3308e-03, -4.3399e-03],\n",
      "          [ 1.8172e-02,  3.3467e-03, -4.1251e-03,  1.1426e-02, -8.0195e-03]],\n",
      "\n",
      "         ...,\n",
      "\n",
      "         [[ 2.2537e-02, -6.6001e-03, -4.3925e-02, -2.2848e-02, -3.0840e-02],\n",
      "          [ 1.0189e-02, -2.6202e-02, -2.4064e-02, -1.2781e-02, -1.6177e-02],\n",
      "          [-1.0886e-02, -1.0977e-02,  1.3235e-03, -1.2261e-02, -2.0580e-02],\n",
      "          [-1.2036e-02,  1.0910e-02,  5.0419e-03, -2.9188e-02, -9.7550e-03],\n",
      "          [-4.9257e-03,  1.8533e-02,  1.1597e-02, -1.4048e-02,  2.5440e-03]],\n",
      "\n",
      "         [[-2.7238e-03, -6.2793e-03, -2.4021e-03, -1.2321e-03, -5.2274e-03],\n",
      "          [-2.0019e-03, -8.9886e-04, -3.5662e-03, -6.9403e-03, -6.7800e-03],\n",
      "          [ 1.2106e-03, -5.2123e-03, -5.5251e-03, -4.2044e-03, -1.1998e-02],\n",
      "          [-5.4252e-03,  1.4513e-03, -3.5511e-03, -1.4117e-03, -1.7503e-03],\n",
      "          [-6.0851e-03, -1.6302e-03, -8.3384e-04, -4.1863e-03, -4.1982e-04]],\n",
      "\n",
      "         [[ 9.9276e-03,  2.1602e-04, -4.5034e-02, -4.2714e-02, -3.9705e-02],\n",
      "          [ 2.8328e-02, -5.0872e-03, -2.9434e-02, -1.9067e-02, -2.2935e-02],\n",
      "          [-1.1321e-03, -2.8757e-02, -2.0928e-02, -1.8686e-02, -2.6927e-02],\n",
      "          [-1.1724e-02, -8.0672e-04,  1.2132e-02, -1.2020e-03, -7.6514e-03],\n",
      "          [-1.5105e-02, -1.1345e-03,  7.9303e-03, -1.4436e-02,  7.6907e-03]]],\n",
      "\n",
      "\n",
      "        ...,\n",
      "\n",
      "\n",
      "        [[[ 4.0407e-03,  1.5703e-02,  6.4017e-03,  2.6167e-04, -2.4869e-03],\n",
      "          [ 2.6571e-03,  1.6864e-02,  1.6203e-02,  3.9484e-03,  4.5242e-04],\n",
      "          [ 4.6864e-03,  1.2942e-02,  1.8847e-02,  9.9788e-03,  7.3236e-03],\n",
      "          [ 9.6214e-03,  8.0063e-03,  1.0866e-02,  3.4824e-03,  1.2661e-03],\n",
      "          [ 2.5179e-03,  1.2953e-03,  3.6978e-03,  3.0835e-03,  5.7754e-03]],\n",
      "\n",
      "         [[ 2.9527e-03,  8.6137e-04,  1.2239e-03, -1.9975e-03, -5.2358e-03],\n",
      "          [-1.5533e-04,  7.5952e-04,  1.0387e-02,  2.1013e-03,  2.9509e-03],\n",
      "          [ 2.5951e-03,  7.6082e-03,  1.0357e-02,  1.0313e-02,  7.4953e-03],\n",
      "          [ 1.2522e-02, -2.0259e-04,  1.2217e-02,  7.6150e-03,  1.1417e-03],\n",
      "          [ 5.0741e-03,  7.2696e-03,  1.1183e-02,  6.7054e-03,  3.6413e-03]],\n",
      "\n",
      "         [[ 2.3652e-02,  7.0294e-04,  1.0629e-03,  1.7008e-03,  1.4974e-02],\n",
      "          [ 7.3704e-03,  1.8033e-02, -1.2146e-02, -5.3599e-03,  1.9979e-02],\n",
      "          [ 2.0549e-02,  2.3256e-02, -1.6014e-03,  1.4224e-02,  2.0542e-02],\n",
      "          [ 1.2069e-02,  1.0302e-02,  4.7388e-03,  7.7616e-03,  8.9198e-03],\n",
      "          [ 9.1980e-03, -5.7198e-03, -3.6290e-03, -2.2717e-03,  1.9419e-02]],\n",
      "\n",
      "         ...,\n",
      "\n",
      "         [[ 3.3636e-02,  4.1221e-02,  1.4267e-02,  1.4892e-02,  1.0713e-02],\n",
      "          [ 5.3275e-02,  2.9278e-02,  1.8165e-02, -7.5091e-03, -1.8972e-04],\n",
      "          [ 4.6668e-02,  3.4820e-02,  1.1383e-02, -2.6810e-02,  4.7740e-03],\n",
      "          [ 2.2416e-02,  3.1990e-02,  1.2409e-02,  3.2244e-03,  1.3236e-02],\n",
      "          [ 2.2439e-02,  6.7045e-03, -4.1238e-03, -5.7642e-03,  9.4402e-03]],\n",
      "\n",
      "         [[-5.8129e-03, -4.3130e-04, -7.0034e-04,  1.3001e-03,  2.0636e-03],\n",
      "          [-1.4553e-03,  2.7040e-03,  7.6474e-03,  9.8529e-03,  5.9048e-03],\n",
      "          [ 4.1593e-03,  7.1218e-03,  2.6583e-03,  4.1076e-03,  3.9364e-03],\n",
      "          [ 5.9876e-03,  4.3131e-03,  7.9696e-04,  8.2209e-04,  2.5656e-03],\n",
      "          [ 5.1271e-03,  6.8433e-03,  5.1404e-03,  2.2851e-03,  8.4018e-03]],\n",
      "\n",
      "         [[-2.6796e-02,  2.0083e-02,  1.2764e-02,  1.2249e-03,  1.6963e-02],\n",
      "          [ 3.1310e-02,  3.8982e-02,  2.5730e-02,  1.6137e-02,  9.7073e-03],\n",
      "          [ 3.6942e-02,  3.4465e-02,  1.0782e-02, -8.2411e-03, -7.2518e-03],\n",
      "          [ 3.1851e-02,  3.1624e-02, -1.8966e-03, -1.5430e-02,  6.8743e-03],\n",
      "          [ 2.0449e-02,  2.9861e-02,  2.2378e-02,  1.5676e-02,  2.6267e-02]]],\n",
      "\n",
      "\n",
      "        [[[-3.6237e-03,  1.2049e-03, -5.8467e-04, -1.4065e-03,  4.2600e-03],\n",
      "          [-6.2131e-03,  1.9076e-03,  3.8057e-03, -2.4459e-04,  4.2944e-03],\n",
      "          [-7.3915e-03, -1.3767e-03,  1.7995e-03, -1.5238e-03,  2.5257e-03],\n",
      "          [-4.5098e-03, -3.0087e-03,  5.3725e-03,  3.3916e-03,  5.3498e-04],\n",
      "          [ 2.3447e-03, -2.5948e-03,  5.7980e-03,  1.1301e-02,  3.5796e-03]],\n",
      "\n",
      "         [[-4.9211e-03, -6.0727e-03, -3.6229e-03, -2.9823e-03,  2.6180e-03],\n",
      "          [ 6.5580e-04,  3.0972e-04, -1.4858e-04,  1.5573e-03,  4.2247e-03],\n",
      "          [ 8.1132e-04,  2.9057e-03,  2.8252e-03, -2.8319e-03, -4.2285e-05],\n",
      "          [-2.6472e-04, -6.0553e-04, -4.6994e-04, -4.2835e-04,  3.0043e-04],\n",
      "          [ 3.6243e-03, -1.9512e-03, -8.8208e-05,  5.9018e-03, -5.0506e-03]],\n",
      "\n",
      "         [[-5.3207e-03, -7.0283e-03, -2.0622e-04,  1.1564e-02, -7.1947e-04],\n",
      "          [-6.8311e-05,  3.5609e-03,  9.1575e-04,  3.2675e-03,  3.8811e-03],\n",
      "          [-1.1883e-03,  9.3333e-03, -6.5966e-03,  3.1235e-03,  1.9590e-02],\n",
      "          [ 5.5221e-03,  7.1665e-03,  3.4832e-03,  1.6447e-03, -5.7252e-04],\n",
      "          [ 1.6616e-03,  5.8511e-03,  2.0342e-02, -3.1667e-03, -3.5098e-03]],\n",
      "\n",
      "         ...,\n",
      "\n",
      "         [[-7.6266e-03, -1.0529e-02, -7.3350e-03,  4.3688e-03,  4.4192e-03],\n",
      "          [ 3.3496e-03,  2.7975e-04, -2.8419e-03,  8.2664e-03,  7.8922e-04],\n",
      "          [-1.3338e-02,  9.3464e-03,  9.7066e-03,  3.9751e-03,  2.9801e-03],\n",
      "          [-1.6918e-02,  1.1895e-02,  5.7944e-03,  3.0406e-03,  6.3966e-03],\n",
      "          [ 4.5641e-03,  1.1750e-02,  1.2030e-02,  1.0842e-02,  3.2411e-04]],\n",
      "\n",
      "         [[-3.6426e-03,  2.8132e-03,  4.0228e-03,  4.4572e-03, -8.3944e-04],\n",
      "          [-2.7291e-03,  1.3520e-03,  2.6479e-03,  3.2637e-03,  2.7514e-03],\n",
      "          [-1.1027e-03, -3.2073e-03, -6.9365e-04,  1.8320e-03, -2.3490e-03],\n",
      "          [-6.2428e-04,  6.3571e-04,  7.9870e-04,  4.0726e-03, -1.4040e-03],\n",
      "          [ 3.5635e-03, -1.7366e-03, -4.2408e-03,  3.1923e-03,  5.3819e-03]],\n",
      "\n",
      "         [[-1.2956e-02, -3.6290e-03,  5.2558e-04,  5.4946e-04, -2.4962e-03],\n",
      "          [-7.1649e-03, -1.3792e-02, -5.5696e-03,  2.3310e-03,  2.2949e-03],\n",
      "          [-7.8215e-03, -9.8792e-03, -4.3257e-04,  4.8073e-03, -5.9194e-03],\n",
      "          [-1.1276e-02,  2.6337e-03,  9.4288e-03,  5.2252e-03,  3.1054e-03],\n",
      "          [-4.4629e-03,  2.8042e-03,  2.9660e-03,  5.2601e-03,  1.0993e-02]]],\n",
      "\n",
      "\n",
      "        [[[-8.0488e-03, -9.6230e-03,  1.2024e-03,  5.5199e-03, -1.9501e-03],\n",
      "          [-5.2280e-03, -1.1485e-02,  1.6824e-03,  2.5841e-03, -7.5545e-04],\n",
      "          [-2.6597e-03, -9.9750e-03,  4.5827e-03,  7.1563e-03, -5.5564e-03],\n",
      "          [-6.5408e-03, -9.0175e-04,  3.3846e-03, -1.8711e-03, -1.2278e-02],\n",
      "          [-1.1745e-03,  3.0352e-03,  4.2630e-03,  6.0319e-03, -5.8386e-03]],\n",
      "\n",
      "         [[ 1.8696e-03,  5.7424e-03, -1.7518e-03, -2.5186e-03, -2.2426e-04],\n",
      "          [-6.9946e-03,  5.8598e-03,  2.0312e-04, -2.5258e-04,  2.4788e-03],\n",
      "          [ 1.0323e-03, -4.8670e-04, -4.9306e-04,  7.2179e-03, -6.5271e-03],\n",
      "          [-3.3108e-03,  2.8029e-03,  5.3391e-03,  8.5206e-05,  3.1295e-03],\n",
      "          [ 4.6799e-03,  2.9928e-03, -5.2873e-03,  5.2835e-03, -3.8361e-04]],\n",
      "\n",
      "         [[-8.6021e-03,  1.3185e-02,  2.4538e-03, -1.6475e-02, -1.4153e-02],\n",
      "          [-1.4751e-02,  7.6007e-03,  2.4017e-03, -1.1688e-02, -6.3664e-03],\n",
      "          [-1.7067e-02, -2.4663e-05,  1.0595e-02, -2.1499e-02,  1.0606e-03],\n",
      "          [ 8.2254e-04,  9.4205e-03, -7.8784e-03, -1.8191e-02, -9.9384e-03],\n",
      "          [ 7.4795e-03, -1.3439e-02,  4.8394e-03, -1.0965e-02, -2.8312e-02]],\n",
      "\n",
      "         ...,\n",
      "\n",
      "         [[-3.5870e-02, -1.0537e-02,  2.8741e-02,  1.2450e-02, -1.5650e-02],\n",
      "          [-3.5101e-02,  4.4143e-03,  2.1531e-02, -3.2507e-03, -3.0973e-02],\n",
      "          [-3.0295e-02, -2.0135e-03,  6.1482e-03, -9.1233e-03, -3.4861e-02],\n",
      "          [-4.2474e-02,  5.0827e-03,  3.7728e-03, -1.8547e-02, -2.6871e-02],\n",
      "          [-3.1098e-03,  2.1283e-02,  2.1319e-03, -1.6639e-02, -2.3736e-02]],\n",
      "\n",
      "         [[-1.5972e-03, -5.0298e-03,  1.2141e-03,  3.2630e-03, -3.2330e-03],\n",
      "          [ 7.1685e-03, -2.4244e-04,  3.6505e-03,  3.6497e-03,  7.1522e-03],\n",
      "          [ 4.6113e-03,  3.9520e-03,  2.0611e-03,  2.5788e-03, -1.6658e-03],\n",
      "          [-3.6895e-03, -8.8239e-05,  4.3385e-03, -4.2018e-03, -2.2060e-03],\n",
      "          [-4.0078e-03,  3.4321e-04, -1.0072e-02, -1.1154e-02, -8.7360e-04]],\n",
      "\n",
      "         [[-2.2493e-02, -2.8335e-02,  2.8148e-03,  1.7331e-02, -9.0263e-03],\n",
      "          [-1.5845e-02, -3.7211e-03,  1.7254e-02,  7.8353e-03, -1.2261e-02],\n",
      "          [-9.3688e-03, -1.9756e-04,  7.2223e-03, -1.2663e-02, -2.4941e-02],\n",
      "          [-2.7212e-02, -1.5865e-02, -3.2597e-03, -9.9128e-03, -1.5440e-02],\n",
      "          [-2.9853e-02,  2.7553e-03, -3.6203e-03, -2.2192e-02, -3.9794e-03]]]]) tensor(7)\n",
      "tensor([-0.0213,  0.0252, -0.0142, -0.0038, -0.0141,  0.0118,  0.0039, -0.0196,\n",
      "         0.0046,  0.0081,  0.0008,  0.0035, -0.0141, -0.0018,  0.0218, -0.0067,\n",
      "        -0.0039, -0.0088, -0.0004, -0.0077, -0.0004,  0.0070, -0.0049,  0.0077,\n",
      "         0.0117,  0.0063,  0.0002, -0.0024, -0.0071,  0.0220, -0.0023, -0.0044]) tensor(0)\n",
      "tensor([[ 0.0000,  0.0000,  0.0000,  ..., -0.0489,  0.1495,  0.0611]]) tensor(83)\n",
      "tensor([0.0579]) tensor(0)\n",
      "tensor(90)\n"
     ]
    },
    {
     "data": {
      "image/png": "[encoded data removed]",
      "text/plain": [
       "<Figure size 432x288 with 1 Axes>"
      ]
     },
     "metadata": {
      "needs_background": "light"
     },
     "output_type": "display_data"
    },
    {
     "name": "stdout",
     "output_type": "stream",
     "text": [
      "Test Accuracy of the model on the 1874 test images: 0.54\n",
      "ACCURACY:0.5405405405405406+/-0.0\n"
     ]
    }
   ],
   "source": [
    "def train(num_epochs, cnn, loaders, optimizer, loss_func):\n",
    "\n",
    "    cnn.train()\n",
    "    #set_seed()\n",
    "    # Train the model\n",
    "    total_step = len(loaders['train'])\n",
    "    l = []\n",
    "    p = {}\n",
    "    for cnt,param in enumerate(cnn.parameters()):\n",
    "        #print(param)\n",
    "        p[cnt] = torch.clone(param.detach())\n",
    "    \n",
    "    for epoch in range(num_epochs):\n",
    "        s = 0\n",
    "        for i, (images, labels) in enumerate(loaders['train']):\n",
    "            # gives batch data, normalize x when iterate train_loader\n",
    "            b_x = Variable(images)   # batch x\n",
    "            b_y = Variable( ((labels - np.mean(digs))>0).float() )   # batch y\n",
    "            output = cnn(b_x)[0]   \n",
    "            loss = loss_func(torch.squeeze(output), b_y)\n",
    "            \n",
    "            \n",
    "            # clear gradients for this training step   \n",
    "            optimizer.zero_grad()           \n",
    "\n",
    "            # backpropagation, compute gradients \n",
    "            loss.backward()    \n",
    "            print('ssssssssssssssssssssssss')\n",
    "            sss = 0\n",
    "            for cnt,param in enumerate(cnn.parameters()):\n",
    "                print(param.grad,torch.sum(param.grad==0) )\n",
    "                sss += torch.sum(abs(param.grad)<1e-7) \n",
    "            #    x = (param - p[cnt])/0.001\n",
    "            #    print(x,torch.sum(torch.isnan(x)))\n",
    "            #    sss += torch.sum(torch.isnan(x))\n",
    "            #    plt.figure(epoch)\n",
    "            #    plt.hist(x.view(x.size(0),-1).detach().numpy())\n",
    "            #    plt.show()\n",
    "            #    p[cnt] = torch.clone(param.detach())\n",
    "\n",
    "           \n",
    "            # apply gradients             \n",
    "            optimizer.step()                \n",
    "            #print('ssssssssssssssssssssssss')\n",
    "            #sss = 0\n",
    "            #for cnt,param in enumerate(cnn.parameters()):\n",
    "            #    #print(param - p[cnt])\n",
    "            #    x = (param - p[cnt])/0.001\n",
    "            #    print(x,torch.sum(torch.isnan(x)))\n",
    "            #    sss += torch.sum(torch.isnan(x))\n",
    "            #    plt.figure(epoch)\n",
    "            #    plt.hist(x.view(x.size(0),-1).detach().numpy())\n",
    "            #    plt.show()\n",
    "            #    p[cnt] = torch.clone(param.detach())\n",
    "                \n",
    "            print(sss)\n",
    "\n",
    "            if (i+1) % 2 == 0:\n",
    "                print ('Epoch [{}/{}], Step [{}/{}], Loss: {:.4f}' \n",
    "                       .format(epoch + 1, num_epochs, i + 1, total_step, loss.item()))\n",
    "            s += loss.item()\n",
    "        s /= (i+1)*1.0\n",
    "        l.append(s)\n",
    "    return l\n",
    "\n",
    "\n",
    "acc = []\n",
    "for it in range(num_times):\n",
    "\n",
    "\n",
    "    mask = mask_train[:N0]\n",
    "\n",
    "    trainset1 = torch.utils.data.Subset(train_data, mask)\n",
    "\n",
    "    loaders = {\n",
    "        'train' : torch.utils.data.DataLoader(trainset1, \n",
    "                                              batch_size=100, \n",
    "                                              shuffle=False, \n",
    "                                              num_workers=1),\n",
    "\n",
    "        'test'  : torch.utils.data.DataLoader(test_data, \n",
    "                                              batch_size=100, \n",
    "                                              shuffle=False, \n",
    "                                              num_workers=1),\n",
    "    }\n",
    "    set_seed()\n",
    "    cnn = CNN()\n",
    "    loss_func = nn.BCEWithLogitsLoss() \n",
    "    #optimizer = optim.SGD(cnn.parameters(), lr = 0.05,momentum=0.9)   \n",
    "    \n",
    "    optimizer = optim.Adam(cnn.parameters(), lr = 0.001,eps = 0)\n",
    "    \n",
    "    \n",
    "    num_epochs = 1\n",
    "    losses = train(num_epochs, cnn, loaders, optimizer, loss_func)\n",
    "    plt.figure(it)\n",
    "    plt.plot(losses)\n",
    "    plt.show()\n",
    "    acc.append(test(cnn,loaders))\n",
    "\n",
    "    torch.save({\n",
    "            'model_state_dict': cnn.state_dict(),\n",
    "            'optimizer_state_dict': optimizer.state_dict(),\n",
    "            }, f'MNIST_model_iter_{it}.pt')\n",
    "\n",
    "\n",
    "\n",
    "        \n",
    "print(f'ACCURACY:{np.mean(acc)}+/-{np.std(acc)}')"
   ]
  },
  {
   "cell_type": "markdown",
   "id": "7a1b8f34",
   "metadata": {},
   "source": [
    "## adding N0 more samples using randomization"
   ]
  },
  {
   "cell_type": "code",
   "execution_count": 44,
   "id": "c0b2aefa",
   "metadata": {},
   "outputs": [
    {
     "data": {
      "image/png": "[encoded data removed]",
      "text/plain": [
       "<Figure size 432x288 with 1 Axes>"
      ]
     },
     "metadata": {
      "needs_background": "light"
     },
     "output_type": "display_data"
    },
    {
     "name": "stdout",
     "output_type": "stream",
     "text": [
      "Test Accuracy of the model on the 1874 test images: 0.88\n",
      "ACCURACY:0.8783783783783784+/-0.0\n"
     ]
    }
   ],
   "source": [
    "acc = []\n",
    "for it in range(num_times):\n",
    " \n",
    "    ############starting next set of iterations#########################\n",
    "    \n",
    "    loss_func = nn.BCEWithLogitsLoss()\n",
    "    set_seed()\n",
    "    cnn = CNN()\n",
    "    optimizer = optim.SGD(cnn.parameters(), lr = 0.05, momentum=0.9)\n",
    "    cnn.load_state_dict(torch.load(f'MNIST_model_iter_{it}.pt')['model_state_dict'])\n",
    "    optimizer.load_state_dict(torch.load(f'MNIST_model_iter_{it}.pt')['optimizer_state_dict'])\n",
    "    \n",
    "    \n",
    "    mask = mask_train[:2*N0]#list(range(N0,2*N0))\n",
    "    trainset2 = torch.utils.data.Subset(train_data, mask)\n",
    "\n",
    "\n",
    "    loaders = {\n",
    "        'train' : torch.utils.data.DataLoader(trainset2, \n",
    "                                              batch_size=100, \n",
    "                                              shuffle=False, \n",
    "                                              num_workers=1),\n",
    "        'test'  : torch.utils.data.DataLoader(test_data, \n",
    "                                              batch_size=100, \n",
    "                                              shuffle=False, \n",
    "                                              num_workers=1),\n",
    "    }\n",
    "    num_epochs = 60\n",
    "    losses = train(num_epochs, cnn, loaders, optimizer, loss_func)\n",
    "    plt.figure(it+num_times)\n",
    "    plt.plot(losses)\n",
    "    plt.show()\n",
    "    acc.append(test(cnn,loaders))\n",
    "print(f'ACCURACY:{np.mean(acc)}+/-{np.std(acc)}')"
   ]
  },
  {
   "cell_type": "markdown",
   "id": "7db89d0c",
   "metadata": {},
   "source": [
    "# Running 20 epochs with N0 samples and add N0 more samples using active learning for next 20 epochs"
   ]
  },
  {
   "cell_type": "code",
   "execution_count": 8,
   "id": "24a38376",
   "metadata": {},
   "outputs": [],
   "source": [
    "def AL_samples(trainset1,cnn,add_num):\n",
    "    with torch.no_grad():\n",
    "        correct = 0\n",
    "        total = 0\n",
    "        pred = []\n",
    "        cnt = 0\n",
    "        for images, labels in torch.utils.data.DataLoader(trainset1, batch_size=100, shuffle=False, num_workers=1):\n",
    "            train_output, last_layer = cnn(images)\n",
    "            pred_y = torch.nn.functional.sigmoid(train_output.squeeze())\n",
    "            #print(pred_y)\n",
    "            #pred.append(pred_y)\n",
    "            if cnt == 0:\n",
    "                pred = pred_y\n",
    "            else:\n",
    "                pred = torch.cat( (pred, pred_y), 0 )\n",
    "            cnt += 1\n",
    "        \n",
    "        ind = np.argsort(abs(pred - 0.5))\n",
    "        return ind[:add_num]"
   ]
  },
  {
   "cell_type": "code",
   "execution_count": 46,
   "id": "ee288ba6",
   "metadata": {},
   "outputs": [
    {
     "name": "stderr",
     "output_type": "stream",
     "text": [
      "/home/m256149/anaconda3/lib/python3.8/site-packages/torch/nn/functional.py:1960: UserWarning: nn.functional.sigmoid is deprecated. Use torch.sigmoid instead.\n",
      "  warnings.warn(\"nn.functional.sigmoid is deprecated. Use torch.sigmoid instead.\")\n"
     ]
    },
    {
     "data": {
      "image/png": "[encoded data removed]",
      "text/plain": [
       "<Figure size 432x288 with 1 Axes>"
      ]
     },
     "metadata": {
      "needs_background": "light"
     },
     "output_type": "display_data"
    },
    {
     "name": "stdout",
     "output_type": "stream",
     "text": [
      "Test Accuracy of the model on the 1874 test images: 0.99\n",
      "ACCURACY:0.9864864864864865+/-0.0\n"
     ]
    }
   ],
   "source": [
    "acc = []\n",
    "for it in range(num_times):\n",
    "\n",
    "    ############starting next set of iterations#########################\n",
    "    \n",
    "    loss_func = nn.BCEWithLogitsLoss() \n",
    "    set_seed()\n",
    "    cnn = CNN()\n",
    "    optimizer = optim.SGD(cnn.parameters(), lr = 0.05, momentum=0.9)\n",
    "    cnn.load_state_dict(torch.load(f'MNIST_model_iter_{it}.pt')['model_state_dict'])\n",
    "    optimizer.load_state_dict(torch.load(f'MNIST_model_iter_{it}.pt')['optimizer_state_dict'])\n",
    "    \n",
    "\n",
    "    \n",
    "    mask = mask_train[N0:]\n",
    "    trainset1 = torch.utils.data.Subset(train_data, mask)\n",
    "    new_mask = torch.cat((mask[AL_samples(trainset1,cnn,N0)],mask_train[:N0]))\n",
    "    trainset2 = torch.utils.data.Subset(train_data, new_mask)\n",
    "\n",
    "    loaders = {\n",
    "        'train' : torch.utils.data.DataLoader(trainset2, \n",
    "                                              batch_size=100, \n",
    "                                              shuffle=False, \n",
    "                                              num_workers=1),\n",
    "        'test'  : torch.utils.data.DataLoader(test_data, \n",
    "                                              batch_size=100, \n",
    "                                              shuffle=False, \n",
    "                                              num_workers=1),\n",
    "    }\n",
    "    num_epochs = 20\n",
    "    losses = train(num_epochs, cnn, loaders, optimizer, loss_func)\n",
    "    plt.figure(it+num_times)\n",
    "    plt.plot(losses)\n",
    "    plt.show()\n",
    "    acc.append(test(cnn,loaders))\n",
    "print(f'ACCURACY:{np.mean(acc)}+/-{np.std(acc)}')"
   ]
  },
  {
   "cell_type": "markdown",
   "id": "81cb424b",
   "metadata": {},
   "source": [
    "## Running 20 epochs with N0 samples and add N0 more samples using active learning for next 20 epochs and train only last layer"
   ]
  },
  {
   "cell_type": "code",
   "execution_count": 13,
   "id": "74361fb7",
   "metadata": {},
   "outputs": [
    {
     "name": "stdout",
     "output_type": "stream",
     "text": [
      "<BinaryCrossEntropyWithLogitsBackward0 object at 0x7f5b8ba8aa30>\n",
      "<BinaryCrossEntropyWithLogitsBackward0 object at 0x7f5b8ba8a970>\n",
      "<BinaryCrossEntropyWithLogitsBackward0 object at 0x7f5b8ba8a2b0>\n",
      "<BinaryCrossEntropyWithLogitsBackward0 object at 0x7f5b8ba8ab80>\n",
      "<BinaryCrossEntropyWithLogitsBackward0 object at 0x7f5b8ba8a0a0>\n",
      "<BinaryCrossEntropyWithLogitsBackward0 object at 0x7f5b8ba8a910>\n",
      "<BinaryCrossEntropyWithLogitsBackward0 object at 0x7f5b8ba8a040>\n",
      "<BinaryCrossEntropyWithLogitsBackward0 object at 0x7f5b8ba8afd0>\n",
      "<BinaryCrossEntropyWithLogitsBackward0 object at 0x7f5b8ba8aca0>\n",
      "<BinaryCrossEntropyWithLogitsBackward0 object at 0x7f5b8ba8adf0>\n",
      "<BinaryCrossEntropyWithLogitsBackward0 object at 0x7f5b8ba8ab50>\n",
      "<BinaryCrossEntropyWithLogitsBackward0 object at 0x7f5b8ba8adc0>\n",
      "<BinaryCrossEntropyWithLogitsBackward0 object at 0x7f5b8ba8a910>\n",
      "<BinaryCrossEntropyWithLogitsBackward0 object at 0x7f5b8ba8af40>\n",
      "<BinaryCrossEntropyWithLogitsBackward0 object at 0x7f5b8ba8a280>\n",
      "<BinaryCrossEntropyWithLogitsBackward0 object at 0x7f5b8ba8a3d0>\n",
      "<BinaryCrossEntropyWithLogitsBackward0 object at 0x7f5b8ba8acd0>\n",
      "<BinaryCrossEntropyWithLogitsBackward0 object at 0x7f5b8ba8a070>\n",
      "<BinaryCrossEntropyWithLogitsBackward0 object at 0x7f5b8ba8ab80>\n",
      "<BinaryCrossEntropyWithLogitsBackward0 object at 0x7f5b8ba8a910>\n",
      "<BinaryCrossEntropyWithLogitsBackward0 object at 0x7f5b8ba8a610>\n",
      "<BinaryCrossEntropyWithLogitsBackward0 object at 0x7f5b8ba8ab80>\n",
      "<BinaryCrossEntropyWithLogitsBackward0 object at 0x7f5b8ba8aca0>\n",
      "<BinaryCrossEntropyWithLogitsBackward0 object at 0x7f5b8ba8afa0>\n",
      "<BinaryCrossEntropyWithLogitsBackward0 object at 0x7f5b8ba8af40>\n",
      "<BinaryCrossEntropyWithLogitsBackward0 object at 0x7f5b8ba8a070>\n",
      "<BinaryCrossEntropyWithLogitsBackward0 object at 0x7f5b8ba8aa90>\n",
      "<BinaryCrossEntropyWithLogitsBackward0 object at 0x7f5b8ba8adf0>\n",
      "<BinaryCrossEntropyWithLogitsBackward0 object at 0x7f5b8ba8a0a0>\n",
      "<BinaryCrossEntropyWithLogitsBackward0 object at 0x7f5b8ba8ae80>\n",
      "<BinaryCrossEntropyWithLogitsBackward0 object at 0x7f5b8ba8a9d0>\n",
      "<BinaryCrossEntropyWithLogitsBackward0 object at 0x7f5b8ba8afa0>\n",
      "<BinaryCrossEntropyWithLogitsBackward0 object at 0x7f5b8ba8a6a0>\n",
      "<BinaryCrossEntropyWithLogitsBackward0 object at 0x7f5b8ba8a6a0>\n",
      "<BinaryCrossEntropyWithLogitsBackward0 object at 0x7f5b8ba8aaf0>\n",
      "<BinaryCrossEntropyWithLogitsBackward0 object at 0x7f5b8ba8afa0>\n",
      "<BinaryCrossEntropyWithLogitsBackward0 object at 0x7f5b8ba8acd0>\n",
      "<BinaryCrossEntropyWithLogitsBackward0 object at 0x7f5b8ba9da00>\n",
      "<BinaryCrossEntropyWithLogitsBackward0 object at 0x7f5b8ba9d730>\n",
      "<BinaryCrossEntropyWithLogitsBackward0 object at 0x7f5b8ba9d2b0>\n",
      "<BinaryCrossEntropyWithLogitsBackward0 object at 0x7f5b8ba9d250>\n",
      "<BinaryCrossEntropyWithLogitsBackward0 object at 0x7f5b8ba9d7c0>\n",
      "<BinaryCrossEntropyWithLogitsBackward0 object at 0x7f5b8ba9d640>\n",
      "<BinaryCrossEntropyWithLogitsBackward0 object at 0x7f5b8ba9d250>\n",
      "<BinaryCrossEntropyWithLogitsBackward0 object at 0x7f5b8ba9d070>\n",
      "<BinaryCrossEntropyWithLogitsBackward0 object at 0x7f5b8ba9d820>\n",
      "<BinaryCrossEntropyWithLogitsBackward0 object at 0x7f5b8ba9d160>\n",
      "<BinaryCrossEntropyWithLogitsBackward0 object at 0x7f5b8ba9d8b0>\n",
      "<BinaryCrossEntropyWithLogitsBackward0 object at 0x7f5b8ba9d820>\n",
      "<BinaryCrossEntropyWithLogitsBackward0 object at 0x7f5b8ba9d640>\n",
      "<BinaryCrossEntropyWithLogitsBackward0 object at 0x7f5b8ba9d8e0>\n",
      "<BinaryCrossEntropyWithLogitsBackward0 object at 0x7f5b8ba9d6d0>\n",
      "<BinaryCrossEntropyWithLogitsBackward0 object at 0x7f5b8ba9d250>\n",
      "<BinaryCrossEntropyWithLogitsBackward0 object at 0x7f5b8ba9dca0>\n",
      "<BinaryCrossEntropyWithLogitsBackward0 object at 0x7f5b8ba9d820>\n",
      "<BinaryCrossEntropyWithLogitsBackward0 object at 0x7f5b8ba9d580>\n",
      "<BinaryCrossEntropyWithLogitsBackward0 object at 0x7f5b8ba9d160>\n",
      "<BinaryCrossEntropyWithLogitsBackward0 object at 0x7f5b8ba9d8e0>\n",
      "<BinaryCrossEntropyWithLogitsBackward0 object at 0x7f5b8ba9d7c0>\n",
      "<BinaryCrossEntropyWithLogitsBackward0 object at 0x7f5b8ba9d160>\n"
     ]
    },
    {
     "data": {
      "image/png": "[encoded data removed]",
      "text/plain": [
       "<Figure size 432x288 with 1 Axes>"
      ]
     },
     "metadata": {
      "needs_background": "light"
     },
     "output_type": "display_data"
    },
    {
     "name": "stdout",
     "output_type": "stream",
     "text": [
      "Test Accuracy of the model on the 1874 test images: 0.96\n",
      "ACCURACY:0.9594594594594594+/-0.0\n"
     ]
    }
   ],
   "source": [
    "acc = []\n",
    "for it in range(num_times):\n",
    "\n",
    "    ############starting next set of iterations#########################\n",
    "    \n",
    "    loss_func = nn.BCEWithLogitsLoss()\n",
    "    set_seed()\n",
    "    cnn = CNN()\n",
    "    optimizer = optim.SGD(cnn.parameters(), lr = 0.05, momentum = 0.9)\n",
    "    cnn.load_state_dict(torch.load(f'MNIST_model_iter_{it}.pt')['model_state_dict'])\n",
    "    optimizer.load_state_dict(torch.load(f'MNIST_model_iter_{it}.pt')['optimizer_state_dict'])\n",
    "    for cnt, param in enumerate(cnn.parameters()):\n",
    "        if cnt < 4:\n",
    "            param.requires_grad = False\n",
    "    \n",
    "    \n",
    "    mask = mask_train[N0:]\n",
    "    trainset1 = torch.utils.data.Subset(train_data, mask)\n",
    "    new_mask = torch.cat((mask[AL_samples(trainset1,cnn,N0)],mask_train[:N0]))\n",
    "    trainset2 = torch.utils.data.Subset(train_data, new_mask)\n",
    "\n",
    "    loaders = {\n",
    "        'train' : torch.utils.data.DataLoader(trainset2, \n",
    "                                              batch_size=100, \n",
    "                                              shuffle=True, \n",
    "                                              num_workers=1),\n",
    "        'test'  : torch.utils.data.DataLoader(test_data, \n",
    "                                              batch_size=100, \n",
    "                                              shuffle=True, \n",
    "                                              num_workers=1),\n",
    "    }\n",
    "    num_epochs = 60\n",
    "    losses = train(num_epochs, cnn, loaders, optimizer, loss_func)\n",
    "    plt.figure(it+num_times)\n",
    "    plt.plot(losses)\n",
    "    plt.show()\n",
    "    acc.append(test(cnn,loaders))\n",
    "print(f'ACCURACY:{np.mean(acc)}+/-{np.std(acc)}')"
   ]
  },
  {
   "cell_type": "markdown",
   "id": "8ec73fbb",
   "metadata": {},
   "source": [
    "## adding N0 more samples using expected gradient length"
   ]
  },
  {
   "cell_type": "code",
   "execution_count": 48,
   "id": "03b455ad",
   "metadata": {},
   "outputs": [],
   "source": [
    "def AL_grad_samples(trainset1,cnn,add_num,nr):\n",
    "    cnn.train()\n",
    "    score_train = []\n",
    "    for images, labels in torch.utils.data.DataLoader(trainset1, batch_size=1, shuffle=False, num_workers=1):\n",
    "\n",
    "        cnn.zero_grad()\n",
    "        train_output, last_layer = cnn(images)\n",
    "        train_output.backward()\n",
    "        pred_y = torch.nn.functional.sigmoid(train_output.squeeze()).item()\n",
    "        s = 0\n",
    "        for param in cnn.parameters():\n",
    "            if nr == 'fro':\n",
    "                s += torch.norm(param.grad).item()\n",
    "            elif nr == 'l0':\n",
    "                s += torch.count_nonzero(param.grad>1e-8).item()\n",
    "            elif nr == 'l1':\n",
    "                s += torch.norm(param.grad,p = 1).item()\n",
    "        score_train.append( 2*s*pred_y*(1-pred_y) )\n",
    "    ind = np.argsort(score_train)\n",
    "    return ind[-add_num:]"
   ]
  },
  {
   "cell_type": "code",
   "execution_count": 51,
   "id": "89987ea0",
   "metadata": {},
   "outputs": [
    {
     "data": {
      "image/png": "[encoded data removed]",
      "text/plain": [
       "<Figure size 432x288 with 1 Axes>"
      ]
     },
     "metadata": {
      "needs_background": "light"
     },
     "output_type": "display_data"
    },
    {
     "name": "stdout",
     "output_type": "stream",
     "text": [
      "Test Accuracy of the model on the 1874 test images: 0.96\n",
      "ACCURACY:0.9594594594594594+/-0.0\n"
     ]
    }
   ],
   "source": [
    "acc = []\n",
    "for it in range(num_times):\n",
    "\n",
    "    ############starting next set of iterations#########################\n",
    "\n",
    "    loss_func = nn.BCEWithLogitsLoss() \n",
    "    set_seed()\n",
    "    cnn = CNN()\n",
    "    optimizer = optim.SGD(cnn.parameters(), lr = 0.05, momentum = 0.9)\n",
    "    cnn.load_state_dict(torch.load(f'MNIST_model_iter_{it}.pt')['model_state_dict'])\n",
    "\n",
    "    mask = mask_train[N0:]\n",
    "    trainset1 = torch.utils.data.Subset(train_data, mask)\n",
    "    new_mask = torch.cat((mask[AL_grad_samples(trainset1,cnn,1,'fro')],mask_train[:N0]))\n",
    "    trainset2 = torch.utils.data.Subset(train_data, new_mask)\n",
    "\n",
    "    cnn.load_state_dict(torch.load(f'MNIST_model_iter_{it}.pt')['model_state_dict'])\n",
    "    optimizer.load_state_dict(torch.load(f'MNIST_model_iter_{it}.pt')['optimizer_state_dict'])\n",
    "    \n",
    "\n",
    "    loaders = {\n",
    "        'train' : torch.utils.data.DataLoader(trainset2, \n",
    "                                              batch_size=100, \n",
    "                                              shuffle=False, \n",
    "                                              num_workers=1),\n",
    "        'test'  : torch.utils.data.DataLoader(test_data, \n",
    "                                              batch_size=100, \n",
    "                                              shuffle=False, \n",
    "                                              num_workers=1),\n",
    "    }\n",
    "    num_epochs = 20\n",
    "    losses = train(num_epochs, cnn, loaders, optimizer, loss_func)\n",
    "    plt.figure(it+num_times)\n",
    "    plt.plot(losses)\n",
    "    plt.show()\n",
    "    acc.append(test(cnn,loaders))\n",
    "print(f'ACCURACY:{np.mean(acc)}+/-{np.std(acc)}')"
   ]
  },
  {
   "cell_type": "markdown",
   "id": "ce25d2df",
   "metadata": {},
   "source": [
    "## adding N0 samples one at a time using active learning expected gradient length"
   ]
  },
  {
   "cell_type": "code",
   "execution_count": 68,
   "id": "1daa5cf9",
   "metadata": {},
   "outputs": [
    {
     "data": {
      "image/png": "[encoded data removed]",
      "text/plain": [
       "<Figure size 432x288 with 1 Axes>"
      ]
     },
     "metadata": {
      "needs_background": "light"
     },
     "output_type": "display_data"
    },
    {
     "data": {
      "image/png": "[encoded data removed]",
      "text/plain": [
       "<Figure size 432x288 with 1 Axes>"
      ]
     },
     "metadata": {
      "needs_background": "light"
     },
     "output_type": "display_data"
    },
    {
     "data": {
      "image/png": "[encoded data removed]",
      "text/plain": [
       "<Figure size 432x288 with 1 Axes>"
      ]
     },
     "metadata": {
      "needs_background": "light"
     },
     "output_type": "display_data"
    },
    {
     "data": {
      "image/png": "[encoded data removed]",
      "text/plain": [
       "<Figure size 432x288 with 1 Axes>"
      ]
     },
     "metadata": {
      "needs_background": "light"
     },
     "output_type": "display_data"
    },
    {
     "data": {
      "image/png": "[encoded data removed]",
      "text/plain": [
       "<Figure size 432x288 with 1 Axes>"
      ]
     },
     "metadata": {
      "needs_background": "light"
     },
     "output_type": "display_data"
    },
    {
     "name": "stdout",
     "output_type": "stream",
     "text": [
      "Test Accuracy of the model on the 1874 test images: 0.43\n",
      "ACCURACY:0.43243243243243246+/-0.0\n"
     ]
    }
   ],
   "source": [
    "acc = []\n",
    "for it in range(num_times):\n",
    "\n",
    "    ############starting next set of iterations#########################\n",
    "\n",
    "    loss_func = nn.BCEWithLogitsLoss() \n",
    "    set_seed()\n",
    "    cnn = CNN()\n",
    "    optimizer = optim.SGD(cnn.parameters(), lr = 0.05, momentum = 0.9)\n",
    "    cnn.load_state_dict(torch.load(f'MNIST_model_iter_{it}.pt')['model_state_dict'])\n",
    "\n",
    "    mask = mask_train[N0:]\n",
    "    trainset1 = torch.utils.data.Subset(train_data, mask)\n",
    "    new_mask = torch.cat((mask[AL_grad_samples(trainset1,cnn,1,'fro')],mask_train[:N0]))\n",
    "    trainset2 = torch.utils.data.Subset(train_data, new_mask)\n",
    "\n",
    "    cnn.load_state_dict(torch.load(f'MNIST_model_iter_{it}.pt')['model_state_dict'])\n",
    "    optimizer.load_state_dict(torch.load(f'MNIST_model_iter_{it}.pt')['optimizer_state_dict'])\n",
    "    \n",
    "\n",
    "    loaders = {\n",
    "        'train' : torch.utils.data.DataLoader(trainset2, \n",
    "                                              batch_size=100, \n",
    "                                              shuffle=True, \n",
    "                                              num_workers=1),\n",
    "        'test'  : torch.utils.data.DataLoader(test_data, \n",
    "                                              batch_size=100, \n",
    "                                              shuffle=True, \n",
    "                                              num_workers=1),\n",
    "    }\n",
    "    num_epochs = 100\n",
    "    losses = train(num_epochs, cnn, loaders, optimizer, loss_func)\n",
    "    plt.figure(it+num_times)\n",
    "    plt.plot(losses)\n",
    "    plt.show()\n",
    "\n",
    "        \n",
    "    for n in range(1,N0):       \n",
    "        #mask = mask_train - new_mask\n",
    "        mask = [i for i in mask_train if i not in new_mask]\n",
    "        trainset1 = torch.utils.data.Subset(train_data, mask)\n",
    "        new_mask = torch.cat((torch.tensor([mask[torch.tensor(AL_grad_samples(trainset1,cnn,1,'l1'))]]),new_mask))\n",
    "        trainset2 = torch.utils.data.Subset(train_data, new_mask)\n",
    "\n",
    "\n",
    "        loaders = {\n",
    "            'train' : torch.utils.data.DataLoader(trainset2, \n",
    "                                                  batch_size=100, \n",
    "                                                  shuffle=True, \n",
    "                                                  num_workers=1),\n",
    "            'test'  : torch.utils.data.DataLoader(test_data, \n",
    "                                                  batch_size=100, \n",
    "                                                  shuffle=True, \n",
    "                                                  num_workers=1),\n",
    "        }\n",
    "        #num_epochs = 100\n",
    "        losses = train(num_epochs, cnn, loaders, optimizer, loss_func)\n",
    "        plt.figure(it+num_times+n)\n",
    "        plt.plot(losses)\n",
    "        plt.show()\n",
    "\n",
    "\n",
    "    acc.append(test(cnn,loaders))\n",
    "print(f'ACCURACY:{np.mean(acc)}+/-{np.std(acc)}')"
   ]
  },
  {
   "cell_type": "markdown",
   "id": "c2dd0620",
   "metadata": {},
   "source": [
    "## adding samples one at a time using just close to margin criteria"
   ]
  },
  {
   "cell_type": "code",
   "execution_count": 69,
   "id": "668696e5",
   "metadata": {},
   "outputs": [
    {
     "data": {
      "image/png": "[encoded data removed]",
      "text/plain": [
       "<Figure size 432x288 with 1 Axes>"
      ]
     },
     "metadata": {
      "needs_background": "light"
     },
     "output_type": "display_data"
    },
    {
     "name": "stderr",
     "output_type": "stream",
     "text": [
      "<ipython-input-69-9644853998b3>:42: UserWarning: To copy construct from a tensor, it is recommended to use sourceTensor.clone().detach() or sourceTensor.clone().detach().requires_grad_(True), rather than torch.tensor(sourceTensor).\n",
      "  new_mask = torch.cat((torch.tensor([mask[torch.tensor(AL_samples(trainset1,cnn,1))]]),new_mask))\n"
     ]
    },
    {
     "data": {
      "image/png": "[encoded data removed]",
      "text/plain": [
       "<Figure size 432x288 with 1 Axes>"
      ]
     },
     "metadata": {
      "needs_background": "light"
     },
     "output_type": "display_data"
    },
    {
     "data": {
      "image/png": "[encoded data removed]",
      "text/plain": [
       "<Figure size 432x288 with 1 Axes>"
      ]
     },
     "metadata": {
      "needs_background": "light"
     },
     "output_type": "display_data"
    },
    {
     "data": {
      "image/png": "[encoded data removed]",
      "text/plain": [
       "<Figure size 432x288 with 1 Axes>"
      ]
     },
     "metadata": {
      "needs_background": "light"
     },
     "output_type": "display_data"
    },
    {
     "data": {
      "image/png": "[encoded data removed]",
      "text/plain": [
       "<Figure size 432x288 with 1 Axes>"
      ]
     },
     "metadata": {
      "needs_background": "light"
     },
     "output_type": "display_data"
    },
    {
     "name": "stdout",
     "output_type": "stream",
     "text": [
      "Test Accuracy of the model on the 1874 test images: 0.84\n",
      "ACCURACY:0.8378378378378378+/-0.0\n"
     ]
    }
   ],
   "source": [
    "acc = []\n",
    "for it in range(num_times):\n",
    "\n",
    "    ############starting next set of iterations#########################\n",
    "\n",
    "    loss_func = nn.BCEWithLogitsLoss() \n",
    "    set_seed()\n",
    "    cnn = CNN()\n",
    "    optimizer = optim.SGD(cnn.parameters(), lr = 0.05, momentum = 0.9)\n",
    "    cnn.load_state_dict(torch.load(f'MNIST_model_iter_{it}.pt')['model_state_dict'])\n",
    "\n",
    "    mask = mask_train[N0:]\n",
    "    trainset1 = torch.utils.data.Subset(train_data, mask)\n",
    "    new_mask = torch.cat((mask[AL_samples(trainset1,cnn,1)],mask_train[:N0]))\n",
    "    trainset2 = torch.utils.data.Subset(train_data, new_mask)\n",
    "\n",
    "    cnn.load_state_dict(torch.load(f'MNIST_model_iter_{it}.pt')['model_state_dict'])\n",
    "    optimizer.load_state_dict(torch.load(f'MNIST_model_iter_{it}.pt')['optimizer_state_dict'])\n",
    "    \n",
    "\n",
    "    loaders = {\n",
    "        'train' : torch.utils.data.DataLoader(trainset2, \n",
    "                                              batch_size=100, \n",
    "                                              shuffle=True, \n",
    "                                              num_workers=1),\n",
    "        'test'  : torch.utils.data.DataLoader(test_data, \n",
    "                                              batch_size=100, \n",
    "                                              shuffle=True, \n",
    "                                              num_workers=1),\n",
    "    }\n",
    "    num_epochs = 100\n",
    "    losses = train(num_epochs, cnn, loaders, optimizer, loss_func)\n",
    "    plt.figure(it+num_times)\n",
    "    plt.plot(losses)\n",
    "    plt.show()\n",
    "\n",
    "        \n",
    "    for n in range(1,N0):       \n",
    "        #mask = mask_train - new_mask\n",
    "        mask = [i for i in mask_train if i not in new_mask]\n",
    "        trainset1 = torch.utils.data.Subset(train_data, mask)\n",
    "        new_mask = torch.cat((torch.tensor([mask[torch.tensor(AL_samples(trainset1,cnn,1))]]),new_mask))\n",
    "        trainset2 = torch.utils.data.Subset(train_data, new_mask)\n",
    "\n",
    "\n",
    "        loaders = {\n",
    "            'train' : torch.utils.data.DataLoader(trainset2, \n",
    "                                                  batch_size=100, \n",
    "                                                  shuffle=True, \n",
    "                                                  num_workers=1),\n",
    "            'test'  : torch.utils.data.DataLoader(test_data, \n",
    "                                                  batch_size=100, \n",
    "                                                  shuffle=True, \n",
    "                                                  num_workers=1),\n",
    "        }\n",
    "        #num_epochs = 20\n",
    "        losses = train(num_epochs, cnn, loaders, optimizer, loss_func)\n",
    "        plt.figure(it+num_times+n)\n",
    "        plt.plot(losses)\n",
    "        plt.show()\n",
    "\n",
    "\n",
    "    acc.append(test(cnn,loaders))\n",
    "print(f'ACCURACY:{np.mean(acc)}+/-{np.std(acc)}')"
   ]
  },
  {
   "cell_type": "code",
   "execution_count": null,
   "id": "527daa41",
   "metadata": {},
   "outputs": [],
   "source": []
  }
 ],
 "metadata": {
  "kernelspec": {
   "display_name": "Python 3",
   "language": "python",
   "name": "python3"
  },
  "language_info": {
   "codemirror_mode": {
    "name": "ipython",
    "version": 3
   },
   "file_extension": ".py",
   "mimetype": "text/x-python",
   "name": "python",
   "nbconvert_exporter": "python",
   "pygments_lexer": "ipython3",
   "version": "3.8.8"
  }
 },
 "nbformat": 4,
 "nbformat_minor": 5
}
